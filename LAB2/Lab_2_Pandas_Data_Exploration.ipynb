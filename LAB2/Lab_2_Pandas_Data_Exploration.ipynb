{
  "cells": [
    {
      "cell_type": "markdown",
      "metadata": {
        "id": "-NFb0vMSw5R6"
      },
      "source": [
        "Load a comma separated file (CSV file) into a DataFrame:"
      ]
    },
    {
      "cell_type": "code",
      "execution_count": null,
      "metadata": {
        "id": "xu4hjFoGwRmZ"
      },
      "outputs": [],
      "source": [
        "import pandas as pd"
      ]
    },
    {
      "cell_type": "code",
      "execution_count": null,
      "metadata": {
        "id": "jt92zg6hw9fZ"
      },
      "outputs": [],
      "source": [
        "df = pd.read_csv('Sales_August_2019.csv')"
      ]
    },
    {
      "cell_type": "markdown",
      "metadata": {
        "id": "dZLPdHgsy0TI"
      },
      "source": [
        "Viewing the Data\n",
        "\n",
        "One of the most used method for getting a quick overview of the DataFrame, is the **head()** method.\n",
        "\n",
        "The **head()** method returns the headers and a specified number of rows, starting from the top.\n",
        "\n",
        "Print the first 5 rows of the DataFrame:\n",
        "\n"
      ]
    },
    {
      "cell_type": "code",
      "execution_count": null,
      "metadata": {
        "id": "CSWu6NO4yOc6"
      },
      "outputs": [],
      "source": [
        "df.head()"
      ]
    },
    {
      "cell_type": "markdown",
      "metadata": {
        "id": "RrSCgQjbzk8A"
      },
      "source": [
        "Get a quick overview by printing the first 10 rows of the DataFrame:"
      ]
    },
    {
      "cell_type": "code",
      "execution_count": null,
      "metadata": {
        "id": "7yB6Jb_myPjK"
      },
      "outputs": [],
      "source": [
        "df.head(10)"
      ]
    },
    {
      "cell_type": "markdown",
      "metadata": {
        "id": "va3RJbV90N7T"
      },
      "source": [
        "There is also a **tail()**method for viewing the last rows of the DataFrame.\n",
        "\n",
        "The **tail()** method returns the headers and a specified number of rows, starting from the bottom.\n"
      ]
    },
    {
      "cell_type": "code",
      "execution_count": null,
      "metadata": {
        "id": "u_wPfqFEzpFv"
      },
      "outputs": [],
      "source": [
        "df.tail()"
      ]
    },
    {
      "cell_type": "markdown",
      "metadata": {
        "id": "G5maijZa0v8J"
      },
      "source": [
        "The DataFrames object has a method called **info()**, that gives you more information about the data set."
      ]
    },
    {
      "cell_type": "code",
      "execution_count": null,
      "metadata": {
        "id": "kOZoB_f30Eom"
      },
      "outputs": [],
      "source": [
        "df.info()"
      ]
    },
    {
      "cell_type": "markdown",
      "metadata": {
        "id": "mgM_jF102RMf"
      },
      "source": [
        "The **info()** method also tells us how many **Non-Null** values there are present in each column.\n",
        "\n",
        "**Empty** values, or **Null** values, can be bad when analyzing data, and you should consider removing rows with empty values. This is a step towards what is called cleaning data.\n"
      ]
    },
    {
      "cell_type": "markdown",
      "metadata": {
        "id": "qwryJmyP3PP-"
      },
      "source": [
        " Generates descriptive statistics for numerical columns (e.g., mean, median, standard deviation).\n",
        "\n",
        "Usage:\n",
        "```python\n",
        "df.describe()\n",
        "```"
      ]
    },
    {
      "cell_type": "code",
      "execution_count": null,
      "metadata": {
        "id": "32BwhuCf01g0"
      },
      "outputs": [],
      "source": [
        "df.describe()"
      ]
    },
    {
      "cell_type": "markdown",
      "metadata": {
        "id": "DcvCjcfL3uDS"
      },
      "source": [
        "Counts unique values in a column, helpful for categorical data.\n",
        "\n",
        "Usage:\n",
        "\n",
        "```python\n",
        "df['column_name'].value_counts()\n",
        "```\n"
      ]
    },
    {
      "cell_type": "code",
      "execution_count": null,
      "metadata": {
        "id": "1-j7QNI_3iB3"
      },
      "outputs": [],
      "source": [
        "df['Product'].value_counts()"
      ]
    },
    {
      "cell_type": "markdown",
      "metadata": {
        "id": "8GwEgn05AW5P"
      },
      "source": [
        "Detects missing values in the dataset.\n",
        "\n",
        "Usage:\n",
        "```python\n",
        "df.isnull().sum()\n",
        "```"
      ]
    },
    {
      "cell_type": "code",
      "execution_count": null,
      "metadata": {
        "id": "IM8cQdnK35uD"
      },
      "outputs": [],
      "source": [
        "df.isnull().sum()"
      ]
    },
    {
      "cell_type": "code",
      "execution_count": null,
      "metadata": {
        "id": "QALq_7Q-AcVK"
      },
      "outputs": [],
      "source": []
    },
    {
      "cell_type": "markdown",
      "metadata": {
        "id": "HCOaZ3jGCt5w"
      },
      "source": [
        "# Assignment 2: Basic Data Exploration Using Pandas\n",
        "\n",
        "## Objective\n",
        "This assignment aims to help students practice basic data exploration techniques using Pandas through loading data, exploring structure, checking for missing values, and performing preliminary analysis.\n",
        "\n",
        "## Instructions\n",
        "\n",
        "### Setting Up Google Colab\n",
        "1. Open Google Colab and create a new notebook titled \"Basic Data Exploration with Pandas\"\n",
        "2. Make sure you are connected to a Python runtime\n",
        "\n",
        "---\n",
        "\n",
        "## Part 1: Data Loading\n",
        "\n",
        "**Task 1**: Import necessary libraries and load data from the provided URL\n",
        "\n",
        "```python\n",
        "import pandas as pd\n",
        "import numpy as np\n",
        "import matplotlib.pyplot as plt\n",
        "\n",
        "# Load data from URL\n",
        "url = 'https://github.com/9meo/bas240/raw/main/data/Sales_October_2019.csv'\n",
        "df = pd._____(url)  # Fill in the correct command\n",
        "```\n",
        "\n",
        "**Task 2**: Display the first 10 rows and shape of the data\n",
        "\n",
        "```python\n",
        "# Display first 10 rows\n",
        "print(\"First 10 rows of data:\")\n",
        "df._____(10)  # Fill in the correct command\n",
        "\n",
        "# Display data dimensions (number of rows, columns)\n",
        "print(f\"\\nData shape: {df._____}\")  # Fill in the correct command\n",
        "```\n",
        "\n",
        "---\n",
        "\n",
        "## Part 2: Data Structure Exploration\n",
        "\n",
        "**Task 3**: Use the info() function to view overall dataset information\n",
        "\n",
        "```python\n",
        "print(\"Dataset overview:\")\n",
        "df._____()  # Fill in the correct command\n",
        "```\n",
        "\n",
        "**Task 4**: Generate descriptive statistics for numerical data\n",
        "\n",
        "```python\n",
        "print(\"Descriptive statistics:\")\n",
        "df._____()  # Fill in the correct command\n",
        "```\n",
        "\n",
        "**Task 5**: Display all column names and data types\n",
        "\n",
        "```python\n",
        "print(\"Column names:\")\n",
        "print(df._____)  # Fill in the correct command\n",
        "\n",
        "print(\"\\nData types for each column:\")\n",
        "print(df._____)  # Fill in the correct command\n",
        "```\n",
        "\n",
        "---\n",
        "\n",
        "## Part 3: Missing Values Check\n",
        "\n",
        "**Task 6**: Check for missing values in each column\n",
        "\n",
        "```python\n",
        "print(\"Number of missing values in each column:\")\n",
        "missing_values = df._____.___()  # Fill in the correct command\n",
        "print(missing_values)\n",
        "\n",
        "# Calculate percentage of missing values\n",
        "print(\"\\nPercentage of missing data:\")\n",
        "missing_percentage = (missing_values / len(df)) * 100\n",
        "print(missing_percentage.round(2))\n",
        "```\n",
        "\n",
        "---\n",
        "\n",
        "## Part 4: Categorical Data Analysis\n",
        "\n",
        "**Task 7**: Analyze Product data\n",
        "\n",
        "```python\n",
        "print(\"Count of each product type:\")\n",
        "product_counts = df['Product']._____()  # Fill in the correct command\n",
        "print(product_counts)\n",
        "\n",
        "print(f\"\\nTotal number of different products: {len(product_counts)} types\")\n",
        "print(f\"Best-selling product: {product_counts.index[0]}\")\n",
        "print(f\"Quantity sold: {product_counts.iloc[0]} units\")\n",
        "```\n",
        "\n",
        "**Task 8**: Analyze City data (if available)\n",
        "\n",
        "```python\n",
        "# Check if City column exists\n",
        "if 'City' in df.columns:\n",
        "    print(\"Sales count by city:\")\n",
        "    city_counts = df['City']._____()  # Fill in the correct command\n",
        "    print(city_counts.head(10))  # Show only top 10 cities\n",
        "else:\n",
        "    print(\"City column not found in the dataset\")\n",
        "```\n",
        "\n",
        "---\n",
        "\n",
        "## Part 5: Basic Analysis\n",
        "\n",
        "**Task 9**: Calculate total sales (if price columns exist)\n",
        "\n",
        "```python\n",
        "# Check for price-related columns\n",
        "price_columns = [col for col in df.columns if 'price' in col.lower() or 'amount' in col.lower()]\n",
        "print(f\"Price-related columns: {price_columns}\")\n",
        "\n",
        "# If price columns exist, calculate statistics\n",
        "if price_columns:\n",
        "    for col in price_columns:\n",
        "        if df[col].dtype in ['float64', 'int64']:\n",
        "            print(f\"\\nStatistics for {col}:\")\n",
        "            print(f\"- Mean: ${df[col].mean():.2f}\")\n",
        "            print(f\"- Median: ${df[col].median():.2f}\")\n",
        "            print(f\"- Maximum: ${df[col].max():.2f}\")\n",
        "            print(f\"- Minimum: ${df[col].min():.2f}\")\n",
        "```\n",
        "\n",
        "**Task 10**: Create basic visualizations\n",
        "\n",
        "```python\n",
        "# Bar chart showing top 10 best-selling products\n",
        "plt.figure(figsize=(12, 6))\n",
        "top_products = df['Product'].value_counts().head(10)\n",
        "top_products.plot(kind='bar')\n",
        "plt.title('Top 10 Best-Selling Products')\n",
        "plt.xlabel('Product')\n",
        "plt.ylabel('Quantity Sold')\n",
        "plt.xticks(rotation=45)\n",
        "plt.tight_layout()\n",
        "plt.show()\n",
        "```\n",
        "\n",
        "---\n",
        "\n",
        "## Part 6: Analysis Summary\n",
        "\n",
        "**Task 11**: Write an analysis summary\n",
        "\n",
        "```python\n",
        "print(\"=== Data Analysis Summary ===\")\n",
        "print(f\"1. Dataset contains {df.shape[0]} rows and {df.shape[1]} columns\")\n",
        "print(f\"2. Number of different product types: {df['Product'].nunique()} types\")\n",
        "print(f\"3. Missing data points: {df.isnull().sum().sum()} values\")\n",
        "\n",
        "# Write your additional summary here\n",
        "```\n",
        "\n",
        "---\n",
        "\n",
        "## Submission\n",
        "\n",
        "1. **Save your work**: Save the notebook to your Google Drive\n",
        "2. **Check your work**: Ensure all code cells run correctly\n",
        "3. **Download**: Download the file as .ipynb\n",
        "4. **Submit**: Submit the .ipynb file through the course platform\n",
        "\n",
        "---\n",
        "\n",
        "## Grading Criteria\n",
        "\n",
        "- **Correct data loading**: 15 points\n",
        "- **Proper use of info(), describe(), head() functions**: 20 points  \n",
        "- **Missing values check**: 15 points\n",
        "- **Categorical data analysis**: 20 points\n",
        "- **Visualization and additional analysis**: 20 points\n",
        "- **Summary and code correctness**: 10 points\n",
        "\n",
        "**Total**: 100 points\n",
        "\n",
        "---\n",
        "\n",
        "## Tips\n",
        "\n",
        "1. Read error messages carefully if code doesn't work\n",
        "2. Use `print()` statements to display results clearly\n",
        "3. Write comments in your code to explain what you're doing\n",
        "4. Try experimenting with additional Pandas functions"
      ]
    }
  ],
  "metadata": {
    "colab": {
      "provenance": []
    },
    "kernelspec": {
      "display_name": "Python 3",
      "name": "python3"
    },
    "language_info": {
      "name": "python"
    }
  },
  "nbformat": 4,
  "nbformat_minor": 0
}
