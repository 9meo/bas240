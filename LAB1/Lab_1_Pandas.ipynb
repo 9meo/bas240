{
  "nbformat": 4,
  "nbformat_minor": 0,
  "metadata": {
    "colab": {
      "provenance": []
    },
    "kernelspec": {
      "name": "python3",
      "display_name": "Python 3"
    },
    "language_info": {
      "name": "python"
    }
  },
  "cells": [
    {
      "cell_type": "code",
      "execution_count": null,
      "metadata": {
        "id": "rLDJIUFkkonQ"
      },
      "outputs": [],
      "source": [
        "print('Hello World')"
      ]
    },
    {
      "cell_type": "code",
      "source": [],
      "metadata": {
        "id": "hl1hIStavDZw"
      },
      "execution_count": 1,
      "outputs": []
    },
    {
      "cell_type": "markdown",
      "source": [
        "# **Data Analytics with Pandas**\n",
        "\n",
        "## **Introduction**\n",
        "In this notebook, we will explore basic data analytics using the **Pandas** library in Python. Pandas is a powerful tool for data manipulation and analysis, and it is widely used in the data science community.\n",
        "\n",
        "---\n",
        "\n",
        "## **Objectives**\n",
        "- Load and explore a dataset\n",
        "- Perform basic data cleaning and transformation\n",
        "- Conduct descriptive statistics\n",
        "- Visualize data using Pandas\n",
        "\n",
        "---\n",
        "\n"
      ],
      "metadata": {
        "id": "lodpcXLdoW1C"
      }
    },
    {
      "cell_type": "markdown",
      "source": [
        "\n",
        "### Explanation:\n",
        "\n",
        "- **Headings (`#`, `##`, `###`)**: Used to create different levels of headings for sections and subsections.\n",
        "- **Bold Text (`**text**`)**: Used to highlight important terms or sections.\n",
        "- **Horizontal Line (`---`)**: Used to visually separate different sections.\n",
        "- **Code Blocks (` ```python `)**: Used to display Python code with syntax highlighting.\n",
        "- **Inline Code (` `code` `)**: Used for small pieces of code within a sentence.\n",
        "\n",
        "This markdown structure will make your Colab notebook well-organized and easy to follow for both you and your students.\n"
      ],
      "metadata": {
        "id": "yjHUi8WypVgw"
      }
    },
    {
      "cell_type": "code",
      "source": [
        "#!pip install pandas"
      ],
      "metadata": {
        "id": "o7cYk7qYxr_M"
      },
      "execution_count": null,
      "outputs": []
    },
    {
      "cell_type": "code",
      "source": [
        "import pandas"
      ],
      "metadata": {
        "id": "Hnud1ZrIx9Hl"
      },
      "execution_count": 2,
      "outputs": []
    },
    {
      "cell_type": "code",
      "source": [
        "import pandas\n",
        "\n",
        "mydataset = {\n",
        "  'cars': [\"BMW\", \"Volvo\", \"Ford\"],\n",
        "  'passings': [3, 7, 2]\n",
        "}\n",
        "\n",
        "myvar = pandas.DataFrame(mydataset)\n",
        "\n",
        "print(myvar)"
      ],
      "metadata": {
        "id": "7ygiiFwKx9zC"
      },
      "execution_count": null,
      "outputs": []
    },
    {
      "cell_type": "code",
      "source": [
        "import pandas as pd\n",
        "\n",
        "mydataset = {\n",
        "  'cars': [\"BMW\", \"Volvo\", \"Ford\"],\n",
        "  'passings': [3, 7, 2]\n",
        "}\n",
        "\n",
        "myvar = pd.DataFrame(mydataset)\n",
        "\n",
        "print(myvar)"
      ],
      "metadata": {
        "id": "LQl4ACqIzwf4"
      },
      "execution_count": null,
      "outputs": []
    },
    {
      "cell_type": "code",
      "source": [
        "print(pd.__version__)"
      ],
      "metadata": {
        "id": "CJ-UGhSc0MJn"
      },
      "execution_count": null,
      "outputs": []
    },
    {
      "cell_type": "markdown",
      "source": [
        "# Pandas Series"
      ],
      "metadata": {
        "id": "-iv-2xFEgCn6"
      }
    },
    {
      "cell_type": "markdown",
      "source": [
        "Create a simple Pandas Series from a list:"
      ],
      "metadata": {
        "id": "xrp24vREeoek"
      }
    },
    {
      "cell_type": "code",
      "source": [
        "import pandas as pd\n",
        "\n",
        "a = [1, 7, 2]\n",
        "\n",
        "myvar = pd.Series(a)\n",
        "\n",
        "print(myvar)"
      ],
      "metadata": {
        "id": "aIC0FwwX0cDj"
      },
      "execution_count": null,
      "outputs": []
    },
    {
      "cell_type": "code",
      "source": [
        "index = ['a', 'b', 'c', 'd']\n",
        "myseries = pd.Series(range(4), index=index,name='first series')\n",
        "print(myseries)"
      ],
      "metadata": {
        "id": "wqmbFqzyfeLQ"
      },
      "execution_count": null,
      "outputs": []
    },
    {
      "cell_type": "markdown",
      "source": [
        "Return the first value of the Series:"
      ],
      "metadata": {
        "id": "6ROja72zetX7"
      }
    },
    {
      "cell_type": "code",
      "source": [
        "print(myvar[0])"
      ],
      "metadata": {
        "id": "sD0YHjAT0cwX"
      },
      "execution_count": null,
      "outputs": []
    },
    {
      "cell_type": "markdown",
      "source": [
        "Create your own labels:\n",
        "\n"
      ],
      "metadata": {
        "id": "67Z0TcRVe0Ru"
      }
    },
    {
      "cell_type": "code",
      "source": [
        "import pandas as pd\n",
        "\n",
        "a = [1, 7, 2]\n",
        "\n",
        "myvar = pd.Series(a, index = [\"x\", \"y\", \"z\"])\n",
        "\n",
        "print(myvar)"
      ],
      "metadata": {
        "id": "CZDauTxA0ctB"
      },
      "execution_count": null,
      "outputs": []
    },
    {
      "cell_type": "markdown",
      "source": [
        "Return the value of \"y\":"
      ],
      "metadata": {
        "id": "rkiWrQd6fEYL"
      }
    },
    {
      "cell_type": "code",
      "source": [
        "print(myvar[\"y\"])"
      ],
      "metadata": {
        "id": "u64Mkaba0cqE"
      },
      "execution_count": null,
      "outputs": []
    },
    {
      "cell_type": "markdown",
      "source": [
        "Create a simple Pandas Series from a dictionary:"
      ],
      "metadata": {
        "id": "W4dpGp-7fIt0"
      }
    },
    {
      "cell_type": "code",
      "source": [
        "calories = {\"day1\": 420, \"day2\": 380, \"day3\": 390}\n",
        "\n",
        "myvar = pd.Series(calories)\n",
        "\n",
        "print(myvar)"
      ],
      "metadata": {
        "id": "0QN83V6v0cjs"
      },
      "execution_count": null,
      "outputs": []
    },
    {
      "cell_type": "code",
      "source": [
        "d = {'a':0,'b':1,'c':2,'d':3}\n",
        "\n",
        "s = pd.Series(d, name='first series')\n",
        "\n",
        "print(s)"
      ],
      "metadata": {
        "id": "FB2wUC1Y0dVF"
      },
      "execution_count": null,
      "outputs": []
    },
    {
      "cell_type": "markdown",
      "source": [
        "ACCESS OR ADD ELEMENTS\n",
        "Request existing values"
      ],
      "metadata": {
        "id": "9A4AMYjPg36D"
      }
    },
    {
      "cell_type": "markdown",
      "source": [
        "s['b']"
      ],
      "metadata": {
        "id": "ZiJ7TupSg4w8"
      }
    },
    {
      "cell_type": "markdown",
      "source": [
        "Modify and existing value\n"
      ],
      "metadata": {
        "id": "IvLcRucug6rM"
      }
    },
    {
      "cell_type": "code",
      "source": [
        "s['b']=3"
      ],
      "metadata": {
        "id": "6nqwYAvFg9HS"
      },
      "execution_count": null,
      "outputs": []
    },
    {
      "cell_type": "markdown",
      "source": [
        "Add new elements\n"
      ],
      "metadata": {
        "id": "_k0bxnZ7g_aO"
      }
    },
    {
      "cell_type": "code",
      "source": [
        "s['e']=5"
      ],
      "metadata": {
        "id": "HBiCJLZGhB_I"
      },
      "execution_count": null,
      "outputs": []
    },
    {
      "cell_type": "code",
      "source": [
        "print(s)"
      ],
      "metadata": {
        "id": "-ROVyj1RhEKB"
      },
      "execution_count": null,
      "outputs": []
    },
    {
      "cell_type": "markdown",
      "source": [
        "# Pandas DataFrame"
      ],
      "metadata": {
        "id": "VMHnBC-Cf5K7"
      }
    },
    {
      "cell_type": "markdown",
      "source": [
        "Create a DataFrame from two Series:"
      ],
      "metadata": {
        "id": "43Sib2lnhURc"
      }
    },
    {
      "cell_type": "code",
      "source": [
        "import pandas as pd\n",
        "\n",
        "data = {\n",
        "  \"calories\": [420, 380, 390],\n",
        "  \"duration\": [50, 40, 45]\n",
        "}\n",
        "\n",
        "myvar = pd.DataFrame(data)\n",
        "\n",
        "print(myvar)"
      ],
      "metadata": {
        "id": "Tr5jnYZsf4uF"
      },
      "execution_count": null,
      "outputs": []
    },
    {
      "cell_type": "markdown",
      "source": [
        "**Locate Row**\n",
        "\n",
        "As you can see from the result above, the DataFrame is like a table with rows and columns.\n",
        "\n",
        "Pandas use the loc attribute to return one or more specified row(s)"
      ],
      "metadata": {
        "id": "JQA1VkiIh8zB"
      }
    },
    {
      "cell_type": "code",
      "source": [
        "print(df.loc[0])   # Return row 0:"
      ],
      "metadata": {
        "id": "T6G9F8F8h6FV"
      },
      "execution_count": null,
      "outputs": []
    },
    {
      "cell_type": "code",
      "source": [
        "print(df.loc[[0, 1]])  # Return row 0 and 1:"
      ],
      "metadata": {
        "id": "lBXPHSzbiOsY"
      },
      "execution_count": null,
      "outputs": []
    },
    {
      "cell_type": "markdown",
      "source": [
        "Add a list of names to give each row a name:"
      ],
      "metadata": {
        "id": "MdgXxb_9i_Ch"
      }
    },
    {
      "cell_type": "code",
      "source": [
        "index=['a', 'b', 'c', 'd']\n",
        "\n",
        "s1 = pd.Series({'a':0, 'b':1, 'c':2, 'd':3})\n",
        "\n",
        "s2= pd.Series([-0.9, -1.7, 1.1,-1.0], index=index)\n",
        "\n",
        "d = {'A':s1, 'B':s2}\n",
        "\n",
        "df = pd.DataFrame(d)\n",
        "\n",
        "print(df)"
      ],
      "metadata": {
        "colab": {
          "base_uri": "https://localhost:8080/"
        },
        "id": "wadrIoSthYg6",
        "outputId": "ef36c35b-46c2-49b9-883e-4acb57be0bf8"
      },
      "execution_count": 16,
      "outputs": [
        {
          "output_type": "stream",
          "name": "stdout",
          "text": [
            "   A    B\n",
            "a  0 -0.9\n",
            "b  1 -1.7\n",
            "c  2  1.1\n",
            "d  3 -1.0\n"
          ]
        }
      ]
    },
    {
      "cell_type": "markdown",
      "source": [
        "Use the named index in the loc attribute to return the specified row(s).\n",
        "\n"
      ],
      "metadata": {
        "id": "SWvqzMk8jUL7"
      }
    },
    {
      "cell_type": "code",
      "source": [
        "df.loc['b']"
      ],
      "metadata": {
        "id": "jLuiJ7AQhbb-"
      },
      "execution_count": null,
      "outputs": []
    },
    {
      "cell_type": "markdown",
      "source": [
        "Using *loc* with *condition*"
      ],
      "metadata": {
        "id": "HCdR5ZQdjt0E"
      }
    },
    {
      "cell_type": "code",
      "source": [
        "df.loc[df['A']==2] # select rows that have 'A' equal 2"
      ],
      "metadata": {
        "id": "ujYV7bSajRCm"
      },
      "execution_count": null,
      "outputs": []
    },
    {
      "cell_type": "markdown",
      "source": [
        "Display columns 'A' in df dataframe"
      ],
      "metadata": {
        "id": "WaPmuW3KoUFn"
      }
    },
    {
      "cell_type": "code",
      "source": [
        "df['A']"
      ],
      "metadata": {
        "id": "V-4NUOv3oTCv"
      },
      "execution_count": null,
      "outputs": []
    },
    {
      "cell_type": "markdown",
      "source": [
        "# Assignment 1 – Creating Series and DataFrames in Pandas\n",
        "\n",
        "**Objective:**\n",
        "\n",
        "The purpose of this assignment is to help you get comfortable with creating and manipulating Pandas Series and DataFrames. You will practice creating Series and DataFrames from scratch, performing basic operations, and using the loc function for data selection.\n",
        "\n",
        "**Instructions:**\n",
        "\n",
        "Set Up Your Google Colab Notebook:\n",
        "\n",
        "Open Google Colab and create a new notebook.\n",
        "\n",
        "**Title the notebook**:  LAB 1 - Pandas Series and DataFrames.\n",
        "\n",
        "\n",
        "**Import Pandas Library:**\n",
        "\n",
        "Start by importing the Pandas library in your notebook:"
      ],
      "metadata": {
        "id": "nozeONZWl4Vu"
      }
    },
    {
      "cell_type": "code",
      "source": [
        "import pandas as pd"
      ],
      "metadata": {
        "id": "TiX3ELHvlajv"
      },
      "execution_count": null,
      "outputs": []
    },
    {
      "cell_type": "markdown",
      "source": [
        "**Creating Pandas Series:**\n",
        "\n",
        "**Task 1**:\n",
        "\n",
        "Create a Pandas Series from a list of integers representing daily sales for a week (e.g., [100, 150, 200, 130, 90, 180, 160]).\n",
        "\n",
        "**Task 2**:\n",
        "\n",
        "Create a Pandas Series with custom index labels (e.g., days of the week).\n",
        "\n"
      ],
      "metadata": {
        "id": "2QJ9VopmmhcV"
      }
    },
    {
      "cell_type": "code",
      "source": [
        "sales_series = pd.Series([])\n",
        "\n",
        "days = []\n",
        "\n",
        "sales_series = pd.Series(sales_series, index=days)"
      ],
      "metadata": {
        "id": "gsHc5QokmgO_"
      },
      "execution_count": null,
      "outputs": []
    },
    {
      "cell_type": "markdown",
      "source": [
        "Creating a Pandas DataFrame:\n",
        "\n",
        "**Task 4**:\n",
        "\n",
        "Create a DataFrame from a dictionary. For example, create a DataFrame that includes data on product sales and prices:\n",
        "\n",
        "\n",
        "**Task 5**:\n",
        "\n",
        "Add a new column to the DataFrame that calculates the total revenue for each product (multiply Quantity Sold by Price per Unit).\n",
        "\n",
        "\n",
        "**Task 6**:\n",
        "\n",
        "Display the first few rows of the DataFrame using head().\n"
      ],
      "metadata": {
        "id": "TJPGDZ_ynC3T"
      }
    },
    {
      "cell_type": "code",
      "source": [
        "#Task 4\n",
        "data = {\n",
        "    'Product': ['Apples', 'Bananas', 'Cherries', 'Dates'],\n",
        "    'Quantity Sold': [],\n",
        "    'Price per Unit': []\n",
        "}\n",
        "df = pd.DataFrame(data)\n",
        "\n",
        "\n",
        "#Task 5\n",
        "df['Total Revenue'] =\n",
        "\n",
        "#Task 6\n",
        "head()"
      ],
      "metadata": {
        "id": "GlrTIYB4nv_g"
      },
      "execution_count": null,
      "outputs": []
    },
    {
      "cell_type": "markdown",
      "source": [
        "Using *loc* for Data Selection:\n",
        "\n",
        "**Task 7**:\n",
        "\n",
        "Use the loc function to select rows where the **Total Revenue** is greater than $50. Display the filtered DataFrame.\n",
        "\n",
        "**Task 8**:\n",
        "\n",
        "Describe the code below\n",
        "\n",
        "```python\n",
        "bananas_data = df.loc[df['Product'] == 'Bananas', ['Product', 'Units Sold']]\n",
        "\n",
        "```\n",
        "\n"
      ],
      "metadata": {
        "id": "KckhfJ0ynFxE"
      }
    },
    {
      "cell_type": "code",
      "source": [
        "#Task 7\n",
        "high_revenue_df = df.loc[]\n",
        "print(high_revenue_df)\n",
        "\n",
        "#Task 8\n",
        "bananas_data = df.loc[df['Product'] == 'Bananas', ['Product', 'Units Sold']]\n"
      ],
      "metadata": {
        "id": "JhMgwXB_owbK"
      },
      "execution_count": null,
      "outputs": []
    },
    {
      "cell_type": "markdown",
      "source": [
        "**Save and Submit**:\n",
        "\n",
        "Save your notebook to your Google Drive.\n",
        "\n",
        "Download the notebook as a .ipynb file.\n",
        "\n",
        "Submit the .ipynb file to the course platform.\n"
      ],
      "metadata": {
        "id": "bL15KTeApKii"
      }
    }
  ]
}