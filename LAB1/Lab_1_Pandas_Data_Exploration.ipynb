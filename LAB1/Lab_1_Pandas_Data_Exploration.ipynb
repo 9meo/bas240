{
  "nbformat": 4,
  "nbformat_minor": 0,
  "metadata": {
    "colab": {
      "provenance": []
    },
    "kernelspec": {
      "name": "python3",
      "display_name": "Python 3"
    },
    "language_info": {
      "name": "python"
    }
  },
  "cells": [
    {
      "cell_type": "markdown",
      "source": [
        "Load a comma separated file (CSV file) into a DataFrame:"
      ],
      "metadata": {
        "id": "-NFb0vMSw5R6"
      }
    },
    {
      "cell_type": "code",
      "execution_count": null,
      "metadata": {
        "id": "xu4hjFoGwRmZ"
      },
      "outputs": [],
      "source": [
        "import pandas as pd"
      ]
    },
    {
      "cell_type": "code",
      "source": [
        "df = pd.read_csv('Sales_August_2019.csv')"
      ],
      "metadata": {
        "id": "jt92zg6hw9fZ"
      },
      "execution_count": null,
      "outputs": []
    },
    {
      "cell_type": "markdown",
      "source": [
        "Viewing the Data\n",
        "\n",
        "One of the most used method for getting a quick overview of the DataFrame, is the **head()** method.\n",
        "\n",
        "The **head()** method returns the headers and a specified number of rows, starting from the top.\n",
        "\n",
        "Print the first 5 rows of the DataFrame:\n",
        "\n"
      ],
      "metadata": {
        "id": "dZLPdHgsy0TI"
      }
    },
    {
      "cell_type": "code",
      "source": [
        "df.head()"
      ],
      "metadata": {
        "id": "CSWu6NO4yOc6"
      },
      "execution_count": null,
      "outputs": []
    },
    {
      "cell_type": "markdown",
      "source": [
        "Get a quick overview by printing the first 10 rows of the DataFrame:"
      ],
      "metadata": {
        "id": "RrSCgQjbzk8A"
      }
    },
    {
      "cell_type": "code",
      "source": [
        "df.head(10)"
      ],
      "metadata": {
        "id": "7yB6Jb_myPjK"
      },
      "execution_count": null,
      "outputs": []
    },
    {
      "cell_type": "markdown",
      "source": [
        "There is also a **tail()**method for viewing the last rows of the DataFrame.\n",
        "\n",
        "The **tail()** method returns the headers and a specified number of rows, starting from the bottom.\n"
      ],
      "metadata": {
        "id": "va3RJbV90N7T"
      }
    },
    {
      "cell_type": "code",
      "source": [
        "df.tail()"
      ],
      "metadata": {
        "id": "u_wPfqFEzpFv"
      },
      "execution_count": null,
      "outputs": []
    },
    {
      "cell_type": "markdown",
      "source": [
        "The DataFrames object has a method called **info()**, that gives you more information about the data set."
      ],
      "metadata": {
        "id": "G5maijZa0v8J"
      }
    },
    {
      "cell_type": "code",
      "source": [
        "df.info()"
      ],
      "metadata": {
        "id": "kOZoB_f30Eom"
      },
      "execution_count": null,
      "outputs": []
    },
    {
      "cell_type": "markdown",
      "source": [
        "The **info()** method also tells us how many **Non-Null** values there are present in each column.\n",
        "\n",
        "**Empty** values, or **Null** values, can be bad when analyzing data, and you should consider removing rows with empty values. This is a step towards what is called cleaning data.\n"
      ],
      "metadata": {
        "id": "mgM_jF102RMf"
      }
    },
    {
      "cell_type": "markdown",
      "source": [
        " Generates descriptive statistics for numerical columns (e.g., mean, median, standard deviation).\n",
        "\n",
        "Usage:\n",
        "```python\n",
        "df.describe()\n",
        "```"
      ],
      "metadata": {
        "id": "qwryJmyP3PP-"
      }
    },
    {
      "cell_type": "code",
      "source": [
        "df.describe()"
      ],
      "metadata": {
        "id": "32BwhuCf01g0"
      },
      "execution_count": null,
      "outputs": []
    },
    {
      "cell_type": "markdown",
      "source": [
        "Counts unique values in a column, helpful for categorical data.\n",
        "\n",
        "Usage:\n",
        "\n",
        "```python\n",
        "df['column_name'].value_counts()\n",
        "```\n"
      ],
      "metadata": {
        "id": "DcvCjcfL3uDS"
      }
    },
    {
      "cell_type": "code",
      "source": [
        "df['Product'].value_counts()"
      ],
      "metadata": {
        "id": "1-j7QNI_3iB3"
      },
      "execution_count": null,
      "outputs": []
    },
    {
      "cell_type": "markdown",
      "source": [
        "Detects missing values in the dataset.\n",
        "\n",
        "Usage:\n",
        "```python\n",
        "df.isnull().sum()\n",
        "```"
      ],
      "metadata": {
        "id": "8GwEgn05AW5P"
      }
    },
    {
      "cell_type": "code",
      "source": [
        "df.isnull().sum()"
      ],
      "metadata": {
        "id": "IM8cQdnK35uD"
      },
      "execution_count": null,
      "outputs": []
    },
    {
      "cell_type": "code",
      "source": [],
      "metadata": {
        "id": "QALq_7Q-AcVK"
      },
      "execution_count": null,
      "outputs": []
    },
    {
      "cell_type": "markdown",
      "source": [
        "# Assignment2 : Basic Data Exploration Using Pandas\n",
        "\n",
        "**Objective**:\n",
        "\n",
        "The purpose of this assignment is to help you practice basic data exploration techniques using Pandas. You will load the dataset, explore its structure, check for missing values, and create simple visualizations to gain insights into the data."
      ],
      "metadata": {
        "id": "mPiS56NxCkHZ"
      }
    },
    {
      "cell_type": "markdown",
      "source": [
        "**Instructions**:\n",
        "\n",
        "Set Up Your Google Colab Notebook:\n",
        "\n",
        "Open Google Colab and create a new notebook titled Basic Data Exploration with Pandas.\n",
        "\n",
        "## Load the Dataset:\n",
        "\n",
        "**Task 1**: Import the Pandas library and load the dataset from the provided URL into a DataFrame.\n",
        "\n",
        "```python\n",
        "import pandas as pd\n",
        "url = 'https://github.com/9meo/bas240/raw/main/data/Sales_October_2019.csv'\n",
        "df = pd.___(url)\n",
        "```\n",
        "\n",
        "**Task 2**: Display the first 10 rows of the dataset to understand its structure using head().\n",
        "\n",
        "```python\n",
        "df._____\n",
        "```\n",
        "\n",
        "**Task 3**: Use the info() function to get an overview of the dataset, including data types, number of entries, and missing values.\n",
        "\n",
        "**Task 4**: Generate summary statistics for numerical columns using the describe() function to understand the distribution of data.\n",
        "\n",
        "\n",
        "## Check for Missing Values:\n",
        "\n",
        "**Task 5**: Use the isnull() function along with sum() to find out if there are any missing values in the dataset.\n",
        "\n",
        "\n",
        "## Analyze Categorical Data:\n",
        "\n",
        "**Task 6**: Identify the unique products in the dataset and count how many times each product was ordered using the value_counts() function.\n",
        "\n",
        "## Save and Submit:\n",
        "\n",
        "Save your notebook to your Google Drive.\n",
        "Download the notebook as a .ipynb file.\n",
        "Submit the .ipynb file to the course platform."
      ],
      "metadata": {
        "id": "HCOaZ3jGCt5w"
      }
    }
  ]
}