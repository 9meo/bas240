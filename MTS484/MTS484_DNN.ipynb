{
  "nbformat": 4,
  "nbformat_minor": 0,
  "metadata": {
    "colab": {
      "provenance": [],
      "gpuType": "T4"
    },
    "kernelspec": {
      "name": "python3",
      "display_name": "Python 3"
    },
    "language_info": {
      "name": "python"
    },
    "accelerator": "GPU"
  },
  "cells": [
    {
      "cell_type": "markdown",
      "source": [
        "### **Lab Title:** Hyperparameter Tuning and Data Splitting in Deep Neural Networks\n",
        "\n",
        "#### **Objective:**\n",
        "1. Learn how to build and train a Deep Neural Network (DNN) using Keras.\n",
        "2. Practice adjusting key hyperparameters, including learning rate, batch size, and epochs.\n",
        "3. Compare model performance between using a simple train-test split and x-fold cross-validation.\n",
        "\n",
        "#### **Prerequisites:**\n",
        "- Basic knowledge of Python and neural networks.\n",
        "- Understanding of Keras syntax and usage.\n",
        "- Familiarity with key concepts: hyperparameters, train-test split, and cross-validation.\n",
        "\n",
        "#### **Dataset:**\n",
        "Use the provided Telco customer dataset (`Simulated_Telco_Data_with_StreamingMovies_Label.csv`). This dataset includes customer information and a target variable related to streaming movie subscriptions, which students will use to predict customer behavior.\n"
      ],
      "metadata": {
        "id": "IzbPtiMmf-xQ"
      }
    },
    {
      "cell_type": "markdown",
      "source": [],
      "metadata": {
        "id": "Tf6vCRXugvC5"
      }
    },
    {
      "cell_type": "code",
      "source": [
        "import pandas as pd\n",
        "from sklearn.model_selection import train_test_split\n",
        "from sklearn.preprocessing import StandardScaler, LabelEncoder\n",
        "from tensorflow.keras.models import Sequential\n",
        "from tensorflow.keras.layers import Dense, Dropout\n",
        "from tensorflow.keras.utils import to_categorical\n",
        "\n",
        "# Load and preprocess data\n",
        "data = pd.read_csv('https://raw.githubusercontent.com/9meo/bas240/refs/heads/main/MTS484/Simulated_Telco_Data_with_StreamingMovies_Label.csv')\n",
        "\n",
        "# Convert 'TotalCharges' to numeric, coercing errors for any invalid entries\n",
        "data['TotalCharges'] = pd.to_numeric(data['TotalCharges'], errors='coerce')\n",
        "data['TotalCharges'].fillna(data['TotalCharges'].mean(), inplace=True)\n",
        "\n",
        "# Drop irrelevant columns (e.g., 'customerID')\n",
        "data = data.drop(columns=['customerID'])\n",
        "\n",
        "# Encode categorical columns\n",
        "label_encoders = {}\n",
        "for column in data.select_dtypes(include='object').columns:\n",
        "    if column != 'Label':\n",
        "        le = LabelEncoder()\n",
        "        data[column] = le.fit_transform(data[column])\n",
        "        label_encoders[column] = le\n",
        "\n",
        "# Encode target variable\n",
        "data['Label'] = data['Label'].map({'Yes': 1, 'No': 0})\n",
        "\n",
        "# Separate features and target\n",
        "X = data.drop(columns=['Label'])\n",
        "y = data['Label']\n",
        "\n",
        "# Standardize numerical features\n",
        "scaler = StandardScaler()\n",
        "X = scaler.fit_transform(X)\n",
        "\n",
        "# Split the data\n",
        "X_train, X_test, y_train, y_test = train_test_split(X, y, test_size=0.2, random_state=42)\n",
        "\n",
        "# Build the model\n",
        "model = Sequential()\n",
        "model.add(Dense(64, activation='relu', input_shape=(X_train.shape[1],)))\n",
        "model.add(Dropout(0.3))\n",
        "model.add(Dense(32, activation='relu'))\n",
        "model.add(Dropout(0.3))\n",
        "model.add(Dense(1, activation='sigmoid'))  # Output layer for binary classification\n",
        "\n",
        "# Compile the model\n",
        "model.compile(optimizer='adam', loss='binary_crossentropy', metrics=['accuracy'])\n",
        "\n",
        "# Train the model\n",
        "history = model.fit(X_train, y_train, epochs=20, batch_size=32, validation_split=0.2)\n",
        "\n",
        "# Evaluate the model\n",
        "loss, accuracy = model.evaluate(X_test, y_test)\n",
        "print(f'Test Accuracy: {accuracy * 100:.2f}%')\n"
      ],
      "metadata": {
        "colab": {
          "base_uri": "https://localhost:8080/"
        },
        "id": "OXE_jR3KlKLq",
        "outputId": "c91755f1-ae10-4387-c1fd-6945bb46eee9"
      },
      "execution_count": 1,
      "outputs": [
        {
          "output_type": "stream",
          "name": "stderr",
          "text": [
            "<ipython-input-1-7f32d2b919d3>:13: FutureWarning: A value is trying to be set on a copy of a DataFrame or Series through chained assignment using an inplace method.\n",
            "The behavior will change in pandas 3.0. This inplace method will never work because the intermediate object on which we are setting values always behaves as a copy.\n",
            "\n",
            "For example, when doing 'df[col].method(value, inplace=True)', try using 'df.method({col: value}, inplace=True)' or df[col] = df[col].method(value) instead, to perform the operation inplace on the original object.\n",
            "\n",
            "\n",
            "  data['TotalCharges'].fillna(data['TotalCharges'].mean(), inplace=True)\n",
            "/usr/local/lib/python3.10/dist-packages/keras/src/layers/core/dense.py:87: UserWarning: Do not pass an `input_shape`/`input_dim` argument to a layer. When using Sequential models, prefer using an `Input(shape)` object as the first layer in the model instead.\n",
            "  super().__init__(activity_regularizer=activity_regularizer, **kwargs)\n"
          ]
        },
        {
          "output_type": "stream",
          "name": "stdout",
          "text": [
            "Epoch 1/20\n",
            "\u001b[1m141/141\u001b[0m \u001b[32m━━━━━━━━━━━━━━━━━━━━\u001b[0m\u001b[37m\u001b[0m \u001b[1m5s\u001b[0m 16ms/step - accuracy: 0.4067 - loss: nan - val_accuracy: 0.3656 - val_loss: nan\n",
            "Epoch 2/20\n",
            "\u001b[1m141/141\u001b[0m \u001b[32m━━━━━━━━━━━━━━━━━━━━\u001b[0m\u001b[37m\u001b[0m \u001b[1m2s\u001b[0m 3ms/step - accuracy: 0.3929 - loss: nan - val_accuracy: 0.3656 - val_loss: nan\n",
            "Epoch 3/20\n",
            "\u001b[1m141/141\u001b[0m \u001b[32m━━━━━━━━━━━━━━━━━━━━\u001b[0m\u001b[37m\u001b[0m \u001b[1m0s\u001b[0m 2ms/step - accuracy: 0.3944 - loss: nan - val_accuracy: 0.3656 - val_loss: nan\n",
            "Epoch 4/20\n",
            "\u001b[1m141/141\u001b[0m \u001b[32m━━━━━━━━━━━━━━━━━━━━\u001b[0m\u001b[37m\u001b[0m \u001b[1m1s\u001b[0m 2ms/step - accuracy: 0.3942 - loss: nan - val_accuracy: 0.3656 - val_loss: nan\n",
            "Epoch 5/20\n",
            "\u001b[1m141/141\u001b[0m \u001b[32m━━━━━━━━━━━━━━━━━━━━\u001b[0m\u001b[37m\u001b[0m \u001b[1m0s\u001b[0m 2ms/step - accuracy: 0.4041 - loss: nan - val_accuracy: 0.3656 - val_loss: nan\n",
            "Epoch 6/20\n",
            "\u001b[1m141/141\u001b[0m \u001b[32m━━━━━━━━━━━━━━━━━━━━\u001b[0m\u001b[37m\u001b[0m \u001b[1m0s\u001b[0m 2ms/step - accuracy: 0.4094 - loss: nan - val_accuracy: 0.3656 - val_loss: nan\n",
            "Epoch 7/20\n",
            "\u001b[1m141/141\u001b[0m \u001b[32m━━━━━━━━━━━━━━━━━━━━\u001b[0m\u001b[37m\u001b[0m \u001b[1m0s\u001b[0m 2ms/step - accuracy: 0.3940 - loss: nan - val_accuracy: 0.3656 - val_loss: nan\n",
            "Epoch 8/20\n",
            "\u001b[1m141/141\u001b[0m \u001b[32m━━━━━━━━━━━━━━━━━━━━\u001b[0m\u001b[37m\u001b[0m \u001b[1m1s\u001b[0m 2ms/step - accuracy: 0.4033 - loss: nan - val_accuracy: 0.3656 - val_loss: nan\n",
            "Epoch 9/20\n",
            "\u001b[1m141/141\u001b[0m \u001b[32m━━━━━━━━━━━━━━━━━━━━\u001b[0m\u001b[37m\u001b[0m \u001b[1m0s\u001b[0m 2ms/step - accuracy: 0.3994 - loss: nan - val_accuracy: 0.3656 - val_loss: nan\n",
            "Epoch 10/20\n",
            "\u001b[1m141/141\u001b[0m \u001b[32m━━━━━━━━━━━━━━━━━━━━\u001b[0m\u001b[37m\u001b[0m \u001b[1m1s\u001b[0m 2ms/step - accuracy: 0.3982 - loss: nan - val_accuracy: 0.3656 - val_loss: nan\n",
            "Epoch 11/20\n",
            "\u001b[1m141/141\u001b[0m \u001b[32m━━━━━━━━━━━━━━━━━━━━\u001b[0m\u001b[37m\u001b[0m \u001b[1m0s\u001b[0m 2ms/step - accuracy: 0.3907 - loss: nan - val_accuracy: 0.3656 - val_loss: nan\n",
            "Epoch 12/20\n",
            "\u001b[1m141/141\u001b[0m \u001b[32m━━━━━━━━━━━━━━━━━━━━\u001b[0m\u001b[37m\u001b[0m \u001b[1m1s\u001b[0m 2ms/step - accuracy: 0.3940 - loss: nan - val_accuracy: 0.3656 - val_loss: nan\n",
            "Epoch 13/20\n",
            "\u001b[1m141/141\u001b[0m \u001b[32m━━━━━━━━━━━━━━━━━━━━\u001b[0m\u001b[37m\u001b[0m \u001b[1m0s\u001b[0m 2ms/step - accuracy: 0.4125 - loss: nan - val_accuracy: 0.3656 - val_loss: nan\n",
            "Epoch 14/20\n",
            "\u001b[1m141/141\u001b[0m \u001b[32m━━━━━━━━━━━━━━━━━━━━\u001b[0m\u001b[37m\u001b[0m \u001b[1m0s\u001b[0m 2ms/step - accuracy: 0.4062 - loss: nan - val_accuracy: 0.3656 - val_loss: nan\n",
            "Epoch 15/20\n",
            "\u001b[1m141/141\u001b[0m \u001b[32m━━━━━━━━━━━━━━━━━━━━\u001b[0m\u001b[37m\u001b[0m \u001b[1m0s\u001b[0m 2ms/step - accuracy: 0.4100 - loss: nan - val_accuracy: 0.3656 - val_loss: nan\n",
            "Epoch 16/20\n",
            "\u001b[1m141/141\u001b[0m \u001b[32m━━━━━━━━━━━━━━━━━━━━\u001b[0m\u001b[37m\u001b[0m \u001b[1m0s\u001b[0m 2ms/step - accuracy: 0.4041 - loss: nan - val_accuracy: 0.3656 - val_loss: nan\n",
            "Epoch 17/20\n",
            "\u001b[1m141/141\u001b[0m \u001b[32m━━━━━━━━━━━━━━━━━━━━\u001b[0m\u001b[37m\u001b[0m \u001b[1m1s\u001b[0m 2ms/step - accuracy: 0.4029 - loss: nan - val_accuracy: 0.3656 - val_loss: nan\n",
            "Epoch 18/20\n",
            "\u001b[1m141/141\u001b[0m \u001b[32m━━━━━━━━━━━━━━━━━━━━\u001b[0m\u001b[37m\u001b[0m \u001b[1m1s\u001b[0m 2ms/step - accuracy: 0.3950 - loss: nan - val_accuracy: 0.3656 - val_loss: nan\n",
            "Epoch 19/20\n",
            "\u001b[1m141/141\u001b[0m \u001b[32m━━━━━━━━━━━━━━━━━━━━\u001b[0m\u001b[37m\u001b[0m \u001b[1m0s\u001b[0m 2ms/step - accuracy: 0.3896 - loss: nan - val_accuracy: 0.3656 - val_loss: nan\n",
            "Epoch 20/20\n",
            "\u001b[1m141/141\u001b[0m \u001b[32m━━━━━━━━━━━━━━━━━━━━\u001b[0m\u001b[37m\u001b[0m \u001b[1m1s\u001b[0m 2ms/step - accuracy: 0.3921 - loss: nan - val_accuracy: 0.3656 - val_loss: nan\n",
            "\u001b[1m45/45\u001b[0m \u001b[32m━━━━━━━━━━━━━━━━━━━━\u001b[0m\u001b[37m\u001b[0m \u001b[1m0s\u001b[0m 6ms/step - accuracy: 0.4152 - loss: nan\n",
            "Test Accuracy: 39.89%\n"
          ]
        }
      ]
    },
    {
      "cell_type": "code",
      "source": [
        "import pandas as pd\n",
        "import numpy as np\n",
        "from sklearn.model_selection import KFold\n",
        "from sklearn.preprocessing import StandardScaler, LabelEncoder\n",
        "from tensorflow.keras.models import Sequential\n",
        "from tensorflow.keras.layers import Dense, Dropout\n",
        "from tensorflow.keras.optimizers import Adam\n",
        "from tensorflow.keras.losses import BinaryCrossentropy\n",
        "from tensorflow.keras.metrics import Accuracy\n",
        "\n",
        "# Load and preprocess data\n",
        "data =  pd.read_csv('https://raw.githubusercontent.com/9meo/bas240/refs/heads/main/MTS484/Simulated_Telco_Data_with_StreamingMovies_Label.csv')\n",
        "\n",
        "# Convert 'TotalCharges' to numeric, handling errors\n",
        "data['TotalCharges'] = pd.to_numeric(data['TotalCharges'], errors='coerce')\n",
        "data['TotalCharges'].fillna(data['TotalCharges'].mean(), inplace=True)\n",
        "\n",
        "# Drop irrelevant columns\n",
        "data = data.drop(columns=['customerID'])\n",
        "\n",
        "# Encode categorical columns\n",
        "label_encoders = {}\n",
        "for column in data.select_dtypes(include='object').columns:\n",
        "    if column != 'Label':\n",
        "        le = LabelEncoder()\n",
        "        data[column] = le.fit_transform(data[column])\n",
        "        label_encoders[column] = le\n",
        "\n",
        "# Encode target variable\n",
        "data['Label'] = data['Label'].map({'Yes': 1, 'No': 0})\n",
        "\n",
        "# Separate features and target\n",
        "X = data.drop(columns=['Label'])\n",
        "y = data['Label']\n",
        "\n",
        "# Standardize numerical features\n",
        "scaler = StandardScaler()\n",
        "X = scaler.fit_transform(X)\n",
        "\n",
        "# Define the K-fold Cross Validator\n",
        "kf = KFold(n_splits=5, shuffle=True, random_state=42)\n",
        "\n",
        "# Initialize variables to store results\n",
        "fold_no = 1\n",
        "accuracies = []\n",
        "\n",
        "for train_index, test_index in kf.split(X):\n",
        "    print(f'Processing fold #{fold_no}')\n",
        "\n",
        "    # Split data\n",
        "    X_train, X_test = X[train_index], X[test_index]\n",
        "    y_train, y_test = y.iloc[train_index], y.iloc[test_index]\n",
        "\n",
        "    # Build the model\n",
        "    model = Sequential([\n",
        "        Dense(64, activation='relu', input_shape=(X_train.shape[1],)),\n",
        "        Dropout(0.3),\n",
        "        Dense(32, activation='relu'),\n",
        "        Dropout(0.3),\n",
        "        Dense(1, activation='sigmoid')\n",
        "    ])\n",
        "\n",
        "    # Compile the model\n",
        "    model.compile(optimizer=Adam(), loss=BinaryCrossentropy(), metrics=[Accuracy()])\n",
        "\n",
        "    # Train the model\n",
        "    model.fit(X_train, y_train, epochs=20, batch_size=32, verbose=0)\n",
        "\n",
        "    # Evaluate the model\n",
        "    scores = model.evaluate(X_test, y_test, verbose=0)\n",
        "    accuracy = scores[1] * 100\n",
        "    print(f'Fold #{fold_no} - Test Accuracy: {accuracy:.2f}%')\n",
        "    accuracies.append(accuracy)\n",
        "\n",
        "    fold_no += 1\n",
        "\n",
        "# Calculate average accuracy\n",
        "average_accuracy = np.mean(accuracies)\n",
        "print(f'Average Test Accuracy: {average_accuracy:.2f}%')\n"
      ],
      "metadata": {
        "colab": {
          "base_uri": "https://localhost:8080/"
        },
        "id": "oVnFm4AOl4nE",
        "outputId": "7106ebf5-f78b-41f9-a063-44ead27ba72e"
      },
      "execution_count": 3,
      "outputs": [
        {
          "output_type": "stream",
          "name": "stderr",
          "text": [
            "<ipython-input-3-ca72e73ed4f0>:16: FutureWarning: A value is trying to be set on a copy of a DataFrame or Series through chained assignment using an inplace method.\n",
            "The behavior will change in pandas 3.0. This inplace method will never work because the intermediate object on which we are setting values always behaves as a copy.\n",
            "\n",
            "For example, when doing 'df[col].method(value, inplace=True)', try using 'df.method({col: value}, inplace=True)' or df[col] = df[col].method(value) instead, to perform the operation inplace on the original object.\n",
            "\n",
            "\n",
            "  data['TotalCharges'].fillna(data['TotalCharges'].mean(), inplace=True)\n",
            "/usr/local/lib/python3.10/dist-packages/keras/src/layers/core/dense.py:87: UserWarning: Do not pass an `input_shape`/`input_dim` argument to a layer. When using Sequential models, prefer using an `Input(shape)` object as the first layer in the model instead.\n",
            "  super().__init__(activity_regularizer=activity_regularizer, **kwargs)\n"
          ]
        },
        {
          "output_type": "stream",
          "name": "stdout",
          "text": [
            "Processing fold #1\n",
            "Fold #1 - Test Accuracy: 0.00%\n",
            "Processing fold #2\n"
          ]
        },
        {
          "output_type": "stream",
          "name": "stderr",
          "text": [
            "/usr/local/lib/python3.10/dist-packages/keras/src/layers/core/dense.py:87: UserWarning: Do not pass an `input_shape`/`input_dim` argument to a layer. When using Sequential models, prefer using an `Input(shape)` object as the first layer in the model instead.\n",
            "  super().__init__(activity_regularizer=activity_regularizer, **kwargs)\n"
          ]
        },
        {
          "output_type": "stream",
          "name": "stdout",
          "text": [
            "Fold #2 - Test Accuracy: 0.00%\n",
            "Processing fold #3\n"
          ]
        },
        {
          "output_type": "stream",
          "name": "stderr",
          "text": [
            "/usr/local/lib/python3.10/dist-packages/keras/src/layers/core/dense.py:87: UserWarning: Do not pass an `input_shape`/`input_dim` argument to a layer. When using Sequential models, prefer using an `Input(shape)` object as the first layer in the model instead.\n",
            "  super().__init__(activity_regularizer=activity_regularizer, **kwargs)\n"
          ]
        },
        {
          "output_type": "stream",
          "name": "stdout",
          "text": [
            "Fold #3 - Test Accuracy: 0.00%\n",
            "Processing fold #4\n"
          ]
        },
        {
          "output_type": "stream",
          "name": "stderr",
          "text": [
            "/usr/local/lib/python3.10/dist-packages/keras/src/layers/core/dense.py:87: UserWarning: Do not pass an `input_shape`/`input_dim` argument to a layer. When using Sequential models, prefer using an `Input(shape)` object as the first layer in the model instead.\n",
            "  super().__init__(activity_regularizer=activity_regularizer, **kwargs)\n"
          ]
        },
        {
          "output_type": "stream",
          "name": "stdout",
          "text": [
            "Fold #4 - Test Accuracy: 0.00%\n",
            "Processing fold #5\n"
          ]
        },
        {
          "output_type": "stream",
          "name": "stderr",
          "text": [
            "/usr/local/lib/python3.10/dist-packages/keras/src/layers/core/dense.py:87: UserWarning: Do not pass an `input_shape`/`input_dim` argument to a layer. When using Sequential models, prefer using an `Input(shape)` object as the first layer in the model instead.\n",
            "  super().__init__(activity_regularizer=activity_regularizer, **kwargs)\n"
          ]
        },
        {
          "output_type": "stream",
          "name": "stdout",
          "text": [
            "Fold #5 - Test Accuracy: 0.00%\n",
            "Average Test Accuracy: 0.00%\n"
          ]
        }
      ]
    }
  ]
}